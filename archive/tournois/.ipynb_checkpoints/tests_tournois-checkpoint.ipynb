{
 "cells": [
  {
   "cell_type": "markdown",
   "metadata": {},
   "source": [
    "# Tests pour le tournois de 2048\n",
    "\n",
    "Ce notebook donne un aperçu de la manière dont le tournois sera lancé. Les cellules de codes écrites en python.\n",
    "\n",
    "\n",
    "Les étapes de la simulation sont les suivantes:\n",
    "\n",
    "1. Lancer la simulation du jeu ```tournois_simulation``` (idéallement dans un terminal)\n",
    "2. Lancer votre programme de joueur automatique ```2048_IA``` ou l'un des deux exécutables de démonstration de joueur automatique fournis (```2048_IA_random``` ou ```2048_IA_naive```)\n",
    "3. Attendez que la simulation se termine. Si les formats d'écriture sont corrects, les fichiers ```configuration.txt``` resp. ```mouvements.txt``` seront mis à jour succéssivement par le moteur de jeu resp. votre joueur automatique.\n",
    "4. Observer le résultats de la simulation dans les fichier ```configuration.txt``` et ```mouvements.txt```\n",
    "\n",
    "Lisez attentivement les cellules suivantes et contacter votre chargé de TP si des erreurs apparaissent au lancement des cellules."
   ]
  },
  {
   "cell_type": "markdown",
   "metadata": {},
   "source": [
    "## Lancer la simulation du jeu\n",
    "\n",
    "Ouvrez un terminal, et déplacez vous dans le répertoire ```Projet-2048/tournois```. Puis exécuter ```./tournois_simulation```. Si vous obtenez des erreurs au lancement, c'est que vous êtes sûrement sur windows, ou  MacOS. En effet, pour ne pas divulger le code source (sujet du projet), nous avons compilé ```tournois_simulation.cpp``` sur le serveur jupyterHub. Réessayer de lancer cet exécutable sur votre serveur jupyterHub.\n",
    "\n",
    "NB: Si vous voulez conserver les résultats intermédiaires de la simulation, vous pouvez toujours rediriger la sortie standard de ```./tournois_simulation``` dans un nouveau fichier avec la commande ```./tournois_simulation > resultats_intermediaires.txt```.\n",
    "\n",
    "Si l'exécutable ne se lance toujours, pas vérifiez que les permissions du fichiers permettent bien son exécution.\n",
    "Pour cela vérifiez les permissions des fichiers avec la cellule suivante:"
   ]
  },
  {
   "cell_type": "code",
   "execution_count": 51,
   "metadata": {},
   "outputs": [
    {
     "name": "stdout",
     "output_type": "stream",
     "text": [
      "total 1976\n",
      "-rwxr-xr-x  1 elizabethwalton  staff  402544 Nov 15 14:45 2048_IA_naive\n",
      "-rwxr-xr-x  1 elizabethwalton  staff  402544 Nov 15 14:45 2048_IA_random\n",
      "-rw-r--r--  1 elizabethwalton  staff    5256 Nov 15 15:32 tests_tournois.ipynb\n",
      "-rwxr-xr-x  1 elizabethwalton  staff  189792 Nov 15 14:45 tournois_simulation\n",
      "\n"
     ]
    }
   ],
   "source": [
    "import subprocess\n",
    "ls_output = subprocess.check_output(['ls', '-l'])\n",
    "print(ls_output.decode())"
   ]
  },
  {
   "cell_type": "markdown",
   "metadata": {},
   "source": [
    "Si les fichiers ```tournois_simulation```, ```2048_IA_random``` et ```2048_IA_naive``` ne sont pas des exécutables (c'est à dire qu'ils ne continnennt pas de x dans ```-rw-r--r--```), alors changer les permissions avec:"
   ]
  },
  {
   "cell_type": "code",
   "execution_count": 52,
   "metadata": {},
   "outputs": [
    {
     "data": {
      "text/plain": [
       "256"
      ]
     },
     "execution_count": 52,
     "metadata": {},
     "output_type": "execute_result"
    }
   ],
   "source": [
    "os.system(\"chmod 755 tournois_simulation\")\n",
    "os.system(\"chmod 755 2048_IA_random\")\n",
    "os.system(\"chmod 755 tournois_naive\")"
   ]
  },
  {
   "cell_type": "markdown",
   "metadata": {},
   "source": [
    "## Lancer le programme d'un joueur automatique\n",
    "\n",
    "À présent, lancez la simulation d'exemple dans un terminal (pour voir l'affichage) ou bien avec la cellule suivante (en attendant qu'elle se termine):"
   ]
  },
  {
   "cell_type": "code",
   "execution_count": 53,
   "metadata": {},
   "outputs": [
    {
     "data": {
      "text/plain": [
       "2"
      ]
     },
     "execution_count": 53,
     "metadata": {},
     "output_type": "execute_result"
    }
   ],
   "source": [
    "os.system(\"./2048_IA_random\")"
   ]
  },
  {
   "cell_type": "markdown",
   "metadata": {},
   "source": [
    "## Erreurs possibles\n",
    "\n",
    "Si la simulation ne termine jamais ou renvoie une erreur dès les premiers déplacements, plusieurs problèmes sont possibles:\n",
    "- Le format du fichier ```mouvements.txt``` n'est pas bon. Consulter le sujet ou le fichier ```mouvements.txt``` créé par les IA d'exemples ```2048_IA_random``` ou ```2048_IA_naive```.\n",
    "- La lecture du fichier ```configuration.txt``` n'est pas effecutée correctement.\n",
    "- Vous n'avez pas lancé la simulationn ```./tournois_simulation``` avant de lancer votre joueur automatique\n",
    "- Vous n'avez pas supprimé les fichiers ```mouvements.txt``` ou ```configuration.txt``` au lancement d'une nouvelle simulation\n",
    "- Vous avez lancé plusieurs fois la simulation du tournois ```./tournois_simulation``` (dans plusieurs terminnaux par exemple)\n",
    "\n",
    "Si des erreurs persistent, demandez de l'aide à votre chargé de TD."
   ]
  }
 ],
 "metadata": {
  "interpreter": {
   "hash": "85d6b08cf2db39b694d69fbcfddf53b3863bebd718fddb71435cf779c7afa659"
  },
  "kernelspec": {
   "display_name": "Python 3 (ipykernel)",
   "language": "python",
   "name": "python3"
  },
  "language_info": {
   "codemirror_mode": {
    "name": "ipython",
    "version": 3
   },
   "file_extension": ".py",
   "mimetype": "text/x-python",
   "name": "python",
   "nbconvert_exporter": "python",
   "pygments_lexer": "ipython3",
   "version": "3.8.10"
  }
 },
 "nbformat": 4,
 "nbformat_minor": 2
}
